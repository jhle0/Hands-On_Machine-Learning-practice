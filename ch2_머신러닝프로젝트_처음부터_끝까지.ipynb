{
  "nbformat": 4,
  "nbformat_minor": 0,
  "metadata": {
    "colab": {
      "provenance": [],
      "authorship_tag": "ABX9TyOy4yCRCgwiyfX993De0fXG",
      "include_colab_link": true
    },
    "kernelspec": {
      "name": "python3",
      "display_name": "Python 3"
    },
    "language_info": {
      "name": "python"
    }
  },
  "cells": [
    {
      "cell_type": "markdown",
      "metadata": {
        "id": "view-in-github",
        "colab_type": "text"
      },
      "source": [
        "<a href=\"https://colab.research.google.com/github/jhle0/Hands-On_Machine-Learning-practice/blob/main/%08ch2_%EB%A8%B8%EC%8B%A0%EB%9F%AC%EB%8B%9D%ED%94%84%EB%A1%9C%EC%A0%9D%ED%8A%B8_%EC%B2%98%EC%9D%8C%EB%B6%80%ED%84%B0_%EB%81%9D%EA%B9%8C%EC%A7%80.ipynb\" target=\"_parent\"><img src=\"https://colab.research.google.com/assets/colab-badge.svg\" alt=\"Open In Colab\"/></a>"
      ]
    },
    {
      "cell_type": "markdown",
      "source": [
        "# Chapter2 - 머신러닝 프로젝트 처음부터 끝까지\n"
      ],
      "metadata": {
        "id": "24GP65lw4Ihx"
      }
    },
    {
      "cell_type": "markdown",
      "source": [
        "#### 군대에서 다시 시작"
      ],
      "metadata": {
        "id": "WGLrLl9jMLmy"
      }
    },
    {
      "cell_type": "code",
      "source": [],
      "metadata": {
        "id": "XO8BD8yP4JV5"
      },
      "execution_count": null,
      "outputs": []
    },
    {
      "cell_type": "code",
      "source": [],
      "metadata": {
        "id": "Jw2LB6kN4IQG"
      },
      "execution_count": null,
      "outputs": []
    },
    {
      "cell_type": "code",
      "execution_count": null,
      "metadata": {
        "id": "EDYWoKGW30Hp"
      },
      "outputs": [],
      "source": []
    }
  ]
}